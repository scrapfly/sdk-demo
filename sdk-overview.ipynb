{
 "cells": [
  {
   "cell_type": "code",
   "execution_count": 2,
   "metadata": {},
   "outputs": [],
   "source": [
    "from scrapfly import ScrapflyClient, ScrapeConfig\n",
    "scrapfly = ScrapflyClient(key=\"YOUR SCRAPFLY KEY\")"
   ]
  },
  {
   "cell_type": "code",
   "execution_count": 4,
   "metadata": {},
   "outputs": [
    {
     "data": {
      "text/plain": [
       "{'iframes': [],\n",
       " 'browser_data': {'session_storage_data': None,\n",
       "  'javascript_evaluation_result': None,\n",
       "  'websockets': [],\n",
       "  'xhr_call': None,\n",
       "  'local_storage_data': None},\n",
       " 'log_url': 'https://scrapfly.io/dashboard/monitoring/log/01GSMC76WZH7PEV22D4JB2GV0C',\n",
       " 'format': 'text',\n",
       " 'reason': 'OK',\n",
       " 'dns': None,\n",
       " 'content': \"<!DOCTYPE html>\\n<html>\\n  <head>\\n  </head>\\n  <body>\\n      <h1>Herman Melville - Moby-Dick</h1>\\n\\n      <div>\\n        <p>\\n          Availing himself of the mild, summer-cool weather that now reigned in these latitudes, and in preparation for the peculiarly active pursuits shortly to be anticipated, Perth, the begrimed, blistered old blacksmith, had not removed his portable forge to the hold again, after concluding his contributory work for Ahab's leg, but still retained it on deck, fast lashed to ringbolts by the foremast; being now almost incessantly invoked by the headsmen, and harpooneers, and bowsmen to do some little job for them; altering, or repairing, or new shaping their various weapons and boat furniture. Often he would be surrounded by an eager circle, all waiting to be served; holding boat-spades, pike-heads, harpoons, and lances, and jealously watching his every sooty movement, as he toiled. Nevertheless, this old man's was a patient hammer wielded by a patient arm. No murmur, no impatience, no petulance did come from him. Silent, slow, and solemn; bowing over still further his chronically broken back, he toiled away, as if toil were life itself, and the heavy beating of his hammer the heavy beating of his heart. And so it was.—Most miserable! A peculiar walk in this old man, a certain slight but painful appearing yawing in his gait, had at an early period of the voyage excited the curiosity of the mariners. And to the importunity of their persisted questionings he had finally given in; and so it came to pass that every one now knew the shameful story of his wretched fate. Belated, and not innocently, one bitter winter's midnight, on the road running between two country towns, the blacksmith half-stupidly felt the deadly numbness stealing over him, and sought refuge in a leaning, dilapidated barn. The issue was, the loss of the extremities of both feet. Out of this revelation, part by part, at last came out the four acts of the gladness, and the one long, and as yet uncatastrophied fifth act of the grief of his life's drama. He was an old man, who, at the age of nearly sixty, had postponedly encountered that thing in sorrow's technicals called ruin. He had been an artisan of famed excellence, and with plenty to do; owned a house and garden; embraced a youthful, daughter-like, loving wife, and three blithe, ruddy children; every Sunday went to a cheerful-looking church, planted in a grove. But one night, under cover of darkness, and further concealed in a most cunning disguisement, a desperate burglar slid into his happy home, and robbed them all of everything. And darker yet to tell, the blacksmith himself did ignorantly conduct this burglar into his family's heart. It was the Bottle Conjuror! Upon the opening of that fatal cork, forth flew the fiend, and shrivelled up his home. Now, for prudent, most wise, and economic reasons, the blacksmith's shop was in the basement of his dwelling, but with a separate entrance to it; so that always had the young and loving healthy wife listened with no unhappy nervousness, but with vigorous pleasure, to the stout ringing of her young-armed old husband's hammer; whose reverberations, muffled by passing through the floors and walls, came up to her, not unsweetly, in her nursery; and so, to stout Labor's iron lullaby, the blacksmith's infants were rocked to slumber. Oh, woe on woe! Oh, Death, why canst thou not sometimes be timely? Hadst thou taken this old blacksmith to thyself ere his full ruin came upon him, then had the young widow had a delicious grief, and her orphans a truly venerable, legendary sire to dream of in their after years; and all of them a care-killing competency.\\n        </p>\\n      </div>\\n  </body>\\n</html>\",\n",
       " 'status': 'DONE',\n",
       " 'screenshots': {},\n",
       " 'response_headers': {'connection': 'keep-alive', 'server': 'gunicorn/19.9.0', 'access-control-allow-origin': '*', 'access-control-allow-credentials': 'true', 'date': 'Sun, 19 Feb 2023 08:21:37 GMT', 'content-type': 'text/html; charset=utf-8', 'content-length': '3741'},\n",
       " 'ssl': None,\n",
       " 'success': True,\n",
       " 'size': 0,\n",
       " 'cookies': [],\n",
       " 'error': None,\n",
       " 'url': 'http://httpbin.org/html',\n",
       " 'duration': 1.89,\n",
       " 'request_headers': {'accept-encoding': 'gzip, deflate', 'accept-language': 'fr-CH,fr;q=0.9,de-CH;q=0.8,en-US;q=0.7,en;q=0.6', 'host': 'httpbin.org', 'upgrade-insecure-requests': '1', 'user-agent': 'Mozilla/5.0 (X11; Linux x86_64) AppleWebKit/537.36 (KHTML, like Gecko) Chrome/108.0.5359.124 Safari/537.36', 'accept': 'text/html,application/xhtml+xml,application/xml;q=0.9,image/avif,image/webp,image/apng,*/*;q=0.8,application/signed-exchange;v=b3;q=0.9'},\n",
       " 'status_code': 200}"
      ]
     },
     "execution_count": 4,
     "metadata": {},
     "output_type": "execute_result"
    }
   ],
   "source": [
    "result = scrapfly.scrape(\n",
    "    ScrapeConfig(\n",
    "        url=\"http://httpbin.org/html\",\n",
    "    )\n",
    ")\n",
    "result.scrape_result"
   ]
  },
  {
   "cell_type": "code",
   "execution_count": 6,
   "metadata": {},
   "outputs": [
    {
     "data": {
      "text/plain": [
       "'Herman Melville - Moby-Dick'"
      ]
     },
     "execution_count": 6,
     "metadata": {},
     "output_type": "execute_result"
    }
   ],
   "source": [
    "# parse result\n",
    "# css selectors\n",
    "result.selector.css(\"h1::text\").get()"
   ]
  },
  {
   "cell_type": "code",
   "execution_count": 7,
   "metadata": {},
   "outputs": [
    {
     "data": {
      "text/plain": [
       "'Herman Melville - Moby-Dick'"
      ]
     },
     "execution_count": 7,
     "metadata": {},
     "output_type": "execute_result"
    }
   ],
   "source": [
    "result.selector.xpath(\"//h1/text()\").get()"
   ]
  },
  {
   "cell_type": "code",
   "execution_count": 5,
   "metadata": {},
   "outputs": [
    {
     "data": {
      "text/plain": [
       "'https://scrapfly.io/dashboard/monitoring/log/01GSYBAE4CV9RVD19110SW249F'"
      ]
     },
     "execution_count": 5,
     "metadata": {},
     "output_type": "execute_result"
    }
   ],
   "source": [
    "# tip: use cache and debug when developing:\n",
    "result_cache = scrapfly.scrape(ScrapeConfig(\n",
    "    url=\"https://scrapfly.io/blog\",\n",
    "\n",
    "    cache=True, \n",
    "    cache_ttl=60, # set cache expiration time (seconds), default is 1 day \n",
    "\n",
    "    debug=True,  # stores result in dashboard for \n",
    "))\n",
    "result_cache.scrape_result['log_url']"
   ]
  },
  {
   "cell_type": "code",
   "execution_count": 9,
   "metadata": {},
   "outputs": [
    {
     "name": "stdout",
     "output_type": "stream",
     "text": [
      "{\n",
      "  \"args\": {}, \n",
      "  \"data\": \"\", \n",
      "  \"files\": {}, \n",
      "  \"form\": {\n",
      "    \"query\": \"hello world\"\n",
      "  }, \n",
      "  \"headers\": {\n",
      "    \"Accept\": \"text/html,application/xhtml+xml,application/xml;q=0.9,image/avif,image/webp,image/apng,*/*;q=0.8,application/signed-exchange;v=b3;q=0.9\", \n",
      "    \"Accept-Encoding\": \"gzip, deflate\", \n",
      "    \"Accept-Language\": \"es-MX,es;q=0.9,en-US;q=0.8,en;q=0.7\", \n",
      "    \"Content-Length\": \"17\", \n",
      "    \"Content-Type\": \"application/x-www-form-urlencoded\", \n",
      "    \"Cookie\": \"language=en\", \n",
      "    \"Host\": \"httpbin.org\", \n",
      "    \"Upgrade-Insecure-Requests\": \"1\", \n",
      "    \"User-Agent\": \"Mozilla/5.0 (Windows NT 10.0; Windows; x64) AppleWebKit/537.36 (KHTML, like Gecko) Chrome/109.0.5396.2 Safari/537.36\", \n",
      "    \"X-Amzn-Trace-Id\": \"Root=1-63f48c3d-10916945356d612e5345e609\", \n",
      "    \"X-Csrf-Token\": \"1234\"\n",
      "  }, \n",
      "  \"json\": null, \n",
      "  \"origin\": \"103.250.82.11\", \n",
      "  \"url\": \"http://httpbin.org/post\"\n",
      "}\n",
      "\n"
     ]
    }
   ],
   "source": [
    "# common HTTP options:\n",
    "result_basics = scrapfly.scrape(ScrapeConfig(\n",
    "    url=\"http://httpbin.org/post\",\n",
    "    method=\"POST\",\n",
    "    data={\"query\": \"hello world\"},\n",
    "    headers={\n",
    "        \"X-CSRF-Token\": \"1234\",\n",
    "    },\n",
    "    cookies={\n",
    "        \"language\": \"en\"\n",
    "    }\n",
    "))\n",
    "print(result_basics.content)"
   ]
  },
  {
   "cell_type": "code",
   "execution_count": 10,
   "metadata": {},
   "outputs": [
    {
     "data": {
      "text/plain": [
       "'Tesla Motors specializes in developing a full range of electric vehicles.'"
      ]
     },
     "execution_count": 10,
     "metadata": {},
     "output_type": "execute_result"
    }
   ],
   "source": [
    "# Anti Scraping protection Bypass\n",
    "result_crunchbase = scrapfly.scrape(ScrapeConfig(\n",
    "    url=\"https://www.crunchbase.com/organization/tesla-motors\",\n",
    "    asp=True\n",
    "))\n",
    "result_crunchbase.selector.css(\".description ::text\").get()"
   ]
  },
  {
   "cell_type": "code",
   "execution_count": 12,
   "metadata": {},
   "outputs": [
    {
     "data": {
      "text/plain": [
       "'<title data-rh=\"true\">Restaurants, Dentists, Bars, Beauty Salons, Doctors - Yelp</title>'"
      ]
     },
     "execution_count": 12,
     "metadata": {},
     "output_type": "execute_result"
    }
   ],
   "source": [
    "# proxy configuration\n",
    "result_yelp = scrapfly.scrape(ScrapeConfig(\n",
    "    url=\"https://yelp.com\",\n",
    "    country=\"US\",\n",
    "    proxy_pool=\"public_residential_pool\",\n",
    "))\n",
    "result_yelp.selector.css(\"title\").get()"
   ]
  },
  {
   "cell_type": "code",
   "execution_count": 15,
   "metadata": {},
   "outputs": [
    {
     "name": "stdout",
     "output_type": "stream",
     "text": [
      "['<title>Scrapfly on Twitter: \"Did you know that you can scrape #Twitter for free using #Python? \\nTwitter is disabling free API access but that shouldn\\'t stop you from getting that public data for your projects!\\n\\nWe cover 2 ways to scrape Twitter with Python:\\nhttps://t.co/2kiOGlfKPY\\n\\n#webscraping\" / Twitter</title>']\n",
      "{'screenshotname-example': {'url': 'https://api.scrapfly.io/scrape/screenshot/01GSSMM00R6SJM1N4AZNWZWER9/screenshotname-example', 'extension': 'jpg', 'format': 'fullpage', 'css_selector': None, 'size': 51906}}\n"
     ]
    },
    {
     "data": {
      "text/plain": [
       "'https://scrapfly.io/dashboard/monitoring/log/01GSSMM00R6SJM1N4AZNWZWER9'"
      ]
     },
     "execution_count": 15,
     "metadata": {},
     "output_type": "execute_result"
    }
   ],
   "source": [
    "# Headless Web Browsers\n",
    "result_twitter = scrapfly.scrape(ScrapeConfig(\n",
    "    url=\"https://twitter.com/Scrapfly_dev/status/1625137012776001538\",\n",
    "    country=\"US\",\n",
    "    render_js=True,\n",
    "    screenshots={\"screenshotname-example\": \"fullpage\"},\n",
    "    wait_for_selector=\"h1\",\n",
    "))\n",
    "print(result_twitter.selector.xpath(\"//title\").getall())\n",
    "print(result_twitter.scrape_result['screenshots'])\n",
    "result_twitter.scrape_result['log_url']"
   ]
  },
  {
   "cell_type": "code",
   "execution_count": 4,
   "metadata": {},
   "outputs": [
    {
     "data": {
      "text/plain": [
       "'Restaurants, Dentists, Bars, Beauty Salons, Doctors - Yelp'"
      ]
     },
     "execution_count": 4,
     "metadata": {},
     "output_type": "execute_result"
    }
   ],
   "source": [
    "# ⚠️ advanced browser controls:\n",
    "result_advanced = scrapfly.scrape(ScrapeConfig(\n",
    "    url=\"https://www.yelp.com/\",\n",
    "    render_js=True,\n",
    "    country=\"US\",\n",
    "\n",
    "    # evaluate any javascript\n",
    "    js=\"return document.querySelector('title').innerText\",  # run javascript\n",
    "    # control browser via commands\n",
    "    js_scenario=[\n",
    "        # wait for search button to load:\n",
    "        {\"wait_for_selector\": {\"selector\": \"#search_description\"}},\n",
    "        # enter search text: \"tacos\"\n",
    "        {\"fill\": {\"selector\": \"#search_description\", \"value\": \"tacos\"}},\n",
    "        # click search button:\n",
    "        {\"click\": {\"selector\": \"button[type=submit]\"}},\n",
    "        # wait for results to load\n",
    "        {\"wait_for_selector\": {\"selector\": \"h3\"}},\n",
    "    ],\n",
    "))\n",
    "# get \n",
    "result_advanced.scrape_result['browser_data']['javascript_evaluation_result']"
   ]
  }
 ],
 "metadata": {
  "kernelspec": {
   "display_name": "Python 3",
   "language": "python",
   "name": "python3"
  },
  "language_info": {
   "codemirror_mode": {
    "name": "ipython",
    "version": 3
   },
   "file_extension": ".py",
   "mimetype": "text/x-python",
   "name": "python",
   "nbconvert_exporter": "python",
   "pygments_lexer": "ipython3",
   "version": "3.10.9"
  },
  "orig_nbformat": 4,
  "vscode": {
   "interpreter": {
    "hash": "e7370f93d1d0cde622a1f8e1c04877d8463912d04d973331ad4851f04de6915a"
   }
  }
 },
 "nbformat": 4,
 "nbformat_minor": 2
}
